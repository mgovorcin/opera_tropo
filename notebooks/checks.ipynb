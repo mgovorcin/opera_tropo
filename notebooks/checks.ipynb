{
 "cells": [
  {
   "cell_type": "code",
   "execution_count": 2,
   "metadata": {},
   "outputs": [],
   "source": [
    "import xarray as xr \n",
    "from pathlib import Path"
   ]
  },
  {
   "cell_type": "code",
   "execution_count": 3,
   "metadata": {},
   "outputs": [],
   "source": [
    "work_dir = Path('/u/aurora-r0/govorcin/01_OPERA/TROPO/interface/data')"
   ]
  },
  {
   "cell_type": "code",
   "execution_count": 19,
   "metadata": {},
   "outputs": [],
   "source": [
    "ds = xr.open_dataset(work_dir / 'ECMWF_TROP_202402151200_202402151200_1.nc',  \n",
    "                     chunks={},\n",
    "                     mask_and_scale=True)"
   ]
  },
  {
   "cell_type": "code",
   "execution_count": 17,
   "metadata": {},
   "outputs": [
    {
     "data": {
      "text/plain": [
       "[{'time': 1}, {'level': 28}, {'latitude': 512}, {'longitude': 1024}]"
      ]
     },
     "execution_count": 17,
     "metadata": {},
     "output_type": "execute_result"
    }
   ],
   "source": [
    "chunksizes = [{key: value[0]} for key, value in ds.chunksizes.items()]\n",
    "chunksizes"
   ]
  },
  {
   "cell_type": "code",
   "execution_count": 148,
   "metadata": {},
   "outputs": [],
   "source": [
    "import logging\n",
    "logger = logging.getLogger(__name__)"
   ]
  },
  {
   "cell_type": "code",
   "execution_count": 164,
   "metadata": {},
   "outputs": [],
   "source": [
    "EXPECTED_COORDS = frozenset(['longitude', 'latitude', 'level', 'time'])\n",
    "EXPECTED_VARS = frozenset(['z', 't', 'q', 'lnsp'])\n",
    "\n",
    "# Valid range with a buffer\n",
    "VALID_RANGE = {\n",
    "    't': [160, 350],       # Temperature (K)\n",
    "    'q': [1e-10, 0.05],    # Specific humidity (kg/kg)\n",
    "    'z': [-5000, 65000],   # Geopotential (m²/s²)\n",
    "    'lnsp': [10, 12]       # Log of surface pressure (unitless)\n",
    "}\n",
    "\n",
    "\n",
    "def check_input(ds : xr.Dataset)->None:\n",
    "   logger.info(\"Performing checkup of input file\") \n",
    "   checks = []\n",
    "\n",
    "   # Check Coordinates\n",
    "   coords = set(ds.coords.keys())\n",
    "   if coords != EXPECTED_COORDS:\n",
    "      missing_coords = EXPECTED_COORDS - coords\n",
    "      extra_coords = coords - EXPECTED_COORDS\n",
    "      checks.append(f'Unexpected coordinates. Missing: {missing_coords}, Extra: {extra_coords}')\n",
    "\n",
    "   if (ds.latitude.min() < -90) |  (ds.latitude.max() > 90):\n",
    "      checks.append('Latitude values must be within (-90, 90)')\n",
    "\n",
    "   if (ds.longitude.min() < 0) | (ds.longitude.max() > 360):\n",
    "      checks.append('Longitude values must be within (0, 360)')\n",
    "\n",
    "   if (ds.level.min() < 0) |  (ds.level.max() > 137):\n",
    "      checks.append('Level values must be within (0, 137)')\n",
    "\n",
    "   # Check Data Variables\n",
    "   # Check Data Variables\n",
    "   data_vars = set(ds.data_vars.keys())\n",
    "   if data_vars != EXPECTED_VARS:\n",
    "      missing_vars = EXPECTED_VARS - data_vars\n",
    "      extra_vars = data_vars - EXPECTED_VARS\n",
    "      checks.append(f'Unexpected data variables. Missing: {missing_vars}, Extra: {extra_vars}')\n",
    "\n",
    "   # Check NaN values and valid range\n",
    "   for var in EXPECTED_VARS:\n",
    "      var_data = ds[var].isel(time=0, level=0 if var in ['z', 'lnsp'] else slice(None))\n",
    "      var_name = getattr(ds[var], 'long_name', var)\n",
    "\n",
    "      if var_data.isnull().any():\n",
    "         checks.append(f'Data Variable \"{var}\" ({var_name}) contains NaN values.')\n",
    "\n",
    "      min_val, max_val = var_data.min().values, var_data.max().values\n",
    "      valid_min, valid_max = VALID_RANGE[var]\n",
    "\n",
    "      # NOTE: make second part wrong intentionally to check how reporting works\n",
    "      if  (min_val < valid_min) | (max_val < valid_max):\n",
    "         checks.append((f'Data Variable \"{var}\" ({var_name}) is out of valid range' \n",
    "                        f' {VALID_RANGE[var]}. Found min: {min_val}, max: {max_val}'))\n",
    "\n",
    "   # Raise error if any check fails\n",
    "   if checks:\n",
    "      for check in checks:\n",
    "        logger.error(check)\n",
    "      #raise ValueError(f'Failed validation checks:\\n' + \"\\n\".join(checks))"
   ]
  },
  {
   "cell_type": "code",
   "execution_count": 131,
   "metadata": {},
   "outputs": [],
   "source": [
    "from dask.distributed import Client\n",
    "\n",
    "client = Client(\n",
    "    n_workers=4,\n",
    "    threads_per_worker=2,\n",
    "    memory_limit=f\"{4}GB\",\n",
    "    )"
   ]
  },
  {
   "cell_type": "code",
   "execution_count": 133,
   "metadata": {},
   "outputs": [
    {
     "data": {
      "text/plain": [
       "'http://127.0.0.1:8787/status'"
      ]
     },
     "execution_count": 133,
     "metadata": {},
     "output_type": "execute_result"
    }
   ],
   "source": [
    "client.dashboard_link"
   ]
  },
  {
   "cell_type": "code",
   "execution_count": 163,
   "metadata": {},
   "outputs": [
    {
     "name": "stderr",
     "output_type": "stream",
     "text": [
      "Data Variable \"z\" (Geopotential) is out of valid range [-5000, 65000]. Found min: -4563.2822265625, max: 62700.71875\n",
      "Data Variable \"t\" (Temperature) is out of valid range [160, 350]. Found min: 176.68382263183594, max: 314.7515869140625\n",
      "Data Variable \"lnsp\" (Logarithm of surface pressure) is out of valid range [10, 12]. Found min: 10.734353065490723, max: 11.577614784240723\n",
      "Data Variable \"q\" (Specific humidity) is out of valid range [1e-10, 0.05]. Found min: 2.2825387802072328e-08, max: 0.024700453504920006\n"
     ]
    },
    {
     "name": "stdout",
     "output_type": "stream",
     "text": [
      "CPU times: user 1min 7s, sys: 43 s, total: 1min 50s\n",
      "Wall time: 1min 40s\n"
     ]
    }
   ],
   "source": [
    "%%time\n",
    "check_input(ds)"
   ]
  }
 ],
 "metadata": {
  "kernelspec": {
   "display_name": "opera_tropo",
   "language": "python",
   "name": "python3"
  },
  "language_info": {
   "codemirror_mode": {
    "name": "ipython",
    "version": 3
   },
   "file_extension": ".py",
   "mimetype": "text/x-python",
   "name": "python",
   "nbconvert_exporter": "python",
   "pygments_lexer": "ipython3",
   "version": "3.12.8"
  }
 },
 "nbformat": 4,
 "nbformat_minor": 2
}
