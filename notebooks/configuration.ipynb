{
 "cells": [
  {
   "cell_type": "code",
   "execution_count": 6,
   "metadata": {},
   "outputs": [
    {
     "name": "stdout",
     "output_type": "stream",
     "text": [
      "The autoreload extension is already loaded. To reload it, use:\n",
      "  %reload_ext autoreload\n"
     ]
    }
   ],
   "source": [
    "%load_ext autoreload\n",
    "%autoreload 2"
   ]
  },
  {
   "cell_type": "code",
   "execution_count": 2,
   "metadata": {},
   "outputs": [],
   "source": [
    "import sys\n",
    "from pathlib import Path\n",
    "\n",
    "src_path = Path('/u/trappist-r0/govorcin/01_OPERA/TROPO/opera_tropo/src')\n",
    "sys.path.append(str(src_path))"
   ]
  },
  {
   "cell_type": "code",
   "execution_count": 12,
   "metadata": {},
   "outputs": [],
   "source": []
  },
  {
   "cell_type": "code",
   "execution_count": 14,
   "metadata": {},
   "outputs": [
    {
     "ename": "ImportError",
     "evalue": "cannot import name 'product_info' from 'opera_tropo' (unknown location)",
     "output_type": "error",
     "traceback": [
      "\u001b[0;31m---------------------------------------------------------------------------\u001b[0m",
      "\u001b[0;31mImportError\u001b[0m                               Traceback (most recent call last)",
      "Cell \u001b[0;32mIn[14], line 1\u001b[0m\n\u001b[0;32m----> 1\u001b[0m \u001b[38;5;28;01mfrom\u001b[39;00m\u001b[38;5;250m \u001b[39m\u001b[38;5;21;01mopera_tropo\u001b[39;00m\u001b[38;5;250m \u001b[39m\u001b[38;5;28;01mimport\u001b[39;00m product_info\n\u001b[1;32m      2\u001b[0m \u001b[38;5;28;01mfrom\u001b[39;00m\u001b[38;5;250m \u001b[39m\u001b[38;5;21;01mopera_tropo\u001b[39;00m\u001b[38;5;21;01m.\u001b[39;00m\u001b[38;5;21;01mutils\u001b[39;00m\u001b[38;5;250m \u001b[39m\u001b[38;5;28;01mimport\u001b[39;00m get_hres_datetime\n\u001b[1;32m      3\u001b[0m \u001b[38;5;28;01mfrom\u001b[39;00m\u001b[38;5;250m \u001b[39m\u001b[38;5;21;01mopera_tropo\u001b[39;00m\u001b[38;5;21;01m.\u001b[39;00m\u001b[38;5;21;01mconfig\u001b[39;00m\u001b[38;5;250m \u001b[39m\u001b[38;5;28;01mimport\u001b[39;00m runconfig, pge_runconfig\n",
      "\u001b[0;31mImportError\u001b[0m: cannot import name 'product_info' from 'opera_tropo' (unknown location)"
     ]
    }
   ],
   "source": [
    "from opera_tropo import product_info\n",
    "from opera_tropo.config import pge_runconfig, runconfig\n",
    "from opera_tropo.utils import get_hres_datetime"
   ]
  },
  {
   "cell_type": "markdown",
   "metadata": {},
   "source": [
    "# Product info\n",
    "metadata of the output product"
   ]
  },
  {
   "cell_type": "code",
   "execution_count": 4,
   "metadata": {},
   "outputs": [],
   "source": [
    "tropo = product_info.TROPO_PRODUCTS"
   ]
  },
  {
   "cell_type": "code",
   "execution_count": 5,
   "metadata": {},
   "outputs": [
    {
     "name": "stdout",
     "output_type": "stream",
     "text": [
      "wet_delay \n",
      " ##################################################\n",
      "name : wet_delay\n",
      "long_name : one way zenith wet delay\n",
      "description : Total Zenith Wet Delay Correction at the top of the atmosphere\n",
      "fillvalue : nan\n",
      "dtype : <class 'numpy.float32'>\n",
      "attrs : {'units': 'meters', 'grid_mapping': 'spatial_ref'}\n",
      "keep_bits : 12\n",
      "\n",
      "\n",
      "hydrostatic_delay \n",
      " ##################################################\n",
      "name : hydrostatic_delay\n",
      "long_name : one way zenith hydrostatic delay\n",
      "description : Total Zenith Wet Delay Correction at the top of the atmosphere\n",
      "fillvalue : nan\n",
      "dtype : <class 'numpy.float32'>\n",
      "attrs : {'units': 'meters', 'grid_mapping': 'spatial_ref'}\n",
      "keep_bits : 12\n",
      "\n",
      "\n",
      "coords \n",
      " ##################################################\n",
      "latitude\n",
      "  axis : y\n",
      "  units : degrees\n",
      "  standard_name : latitude\n",
      "  long_name : latitude\n",
      "  description : Angular distance of a point north or south of the equator.\n",
      "  encoding : None\n",
      "longitude\n",
      "  axis : x\n",
      "  units : degrees\n",
      "  standard_name : longitude\n",
      "  long_name : longitude\n",
      "  description : Angular distance of a point east or west of the Prime Meridian.\n",
      "  encoding : None\n",
      "height\n",
      "  axis : z\n",
      "  units : m\n",
      "  standard_name : height\n",
      "  long_name : ellipsoidal_height\n",
      "  description : Height above ellipsoid WGS84\n",
      "  encoding : None\n",
      "time\n",
      "  axis : t\n",
      "  units : None\n",
      "  standard_name : time\n",
      "  long_name : UTC time\n",
      "  description : Model base time\n",
      "  encoding : {'units': 'hours since 1900-01-01', 'calendar': 'gregorian'}\n",
      "\n",
      "\n"
     ]
    }
   ],
   "source": [
    "for item, key in tropo.__dict__.items():\n",
    "    print(item,'\\n',50*'#')\n",
    "    for i, ik in key.__dict__.items():\n",
    "        if item == 'coords':\n",
    "            print(i)\n",
    "            for ix, ik in ik.__dict__.items():\n",
    "                print(' ', ix,':', ik)\n",
    "        else:\n",
    "            print(i,':', ik)\n",
    "\n",
    "    print('\\n')"
   ]
  },
  {
   "cell_type": "markdown",
   "metadata": {},
   "source": [
    "# Configuration "
   ]
  },
  {
   "cell_type": "code",
   "execution_count": 13,
   "metadata": {},
   "outputs": [],
   "source": [
    "tropo_workflow = runconfig.TropoWorkflow\n",
    "tropo_workflow = tropo_workflow.from_yaml('opera_tropo/src/opera_tropo/config/default/runconfig.yaml')"
   ]
  },
  {
   "cell_type": "code",
   "execution_count": 9,
   "metadata": {},
   "outputs": [
    {
     "name": "stdout",
     "output_type": "stream",
     "text": [
      "input_options:\n",
      "  # Path to the input HRES model hres_model.nc.\n",
      "  #   Type: string.\n",
      "  input_file_path: ''\n",
      "  # Format of dates contained in s3 HRES folder.\n",
      "  #   Type: string.\n",
      "  date_fmt: '%Y%m%d'\n",
      "output_options:\n",
      "  # Output Date Format for OPERA TROPO.\n",
      "  #   Type: string.\n",
      "  date_fmt: '%Y%m%dT%H%M%S'\n",
      "  # Time the config file was created.\n",
      "  #   Type: string.\n",
      "  creation_time: '2025-01-30T02:56:55.630819Z'\n",
      "  # Output height level to hydrostatic and wet delay default:  RAiDER HRES 145 height levels.\n",
      "  #   Type: array | null.\n",
      "  output_heights: []\n",
      "  # Product output compression options for netcdf.\n",
      "  #   Type: object | null.\n",
      "  compression_kwargs:\n",
      "    compression_flag: false\n",
      "    zlib: true\n",
      "    complevel: 4\n",
      "    shuffle: true\n",
      "  # OPERA TROPO product version.\n",
      "  #   Type: string.\n",
      "  product_version: '0.1'\n",
      "# Name of directory to use for writing output files.\n",
      "#   Type: string.\n",
      "work_directory: /u/trappist-r0/govorcin/01_OPERA/TROPO\n",
      "# Don't resolve filepaths that are given as relative to be absolute.\n",
      "#   Type: boolean.\n",
      "keep_paths_relative: false\n",
      "worker_settings:\n",
      "  # Number of workers to use in dask.Client.\n",
      "  #   Type: integer.\n",
      "  n_workers: 1\n",
      "  # Number of threads to use per worker in dask.Client.\n",
      "  #   Type: integer.\n",
      "  threads_per_worker: 1\n",
      "  # Workers are given a target memory limit in dask.Client.\n",
      "  #   Type: integer.\n",
      "  max_memory: 4\n",
      "  # Dask local spill directory.\n",
      "  #   Type: string | string.\n",
      "  dask_temp_dir:\n",
      "  # Size (rows, columns) of blocks of data to load at a time.\n",
      "  #   Type: array.\n",
      "  block_shape:\n",
      "    - 128\n",
      "    - 128\n",
      "# Path to output log file (in addition to logging to `stderr`). Default logs to `tropo.log`\n",
      "#   within `work_directory`.\n",
      "#   Type: string | null.\n",
      "log_file:\n"
     ]
    }
   ],
   "source": [
    "# Print config defaults\n",
    "tropo_workflow.print_yaml_schema()"
   ]
  },
  {
   "cell_type": "code",
   "execution_count": 15,
   "metadata": {},
   "outputs": [
    {
     "data": {
      "text/plain": [
       "{'input_options': {'input_file_path': '/u/trappist-r0/govorcin/01_OPERA/HRES/data/D01010000010100001.subset.zz.nc',\n",
       "  'date_fmt': '%Y%m%d'},\n",
       " 'output_options': {'date_fmt': '%Y%m%dT%H%M%S',\n",
       "  'creation_time': datetime.datetime(2025, 1, 30, 2, 58, 16, 888033, tzinfo=datetime.timezone.utc),\n",
       "  'output_heights': [],\n",
       "  'compression_kwargs': {'compression_flag': False,\n",
       "   'zlib': True,\n",
       "   'complevel': 5,\n",
       "   'shuffle': True},\n",
       "  'product_version': '0.1'},\n",
       " 'work_directory': PosixPath('/u/trappist-r0/govorcin/01_OPERA/TROPO'),\n",
       " 'keep_paths_relative': False,\n",
       " 'worker_settings': {'n_workers': 5,\n",
       "  'threads_per_worker': 2,\n",
       "  'max_memory': 8,\n",
       "  'dask_temp_dir': 'tmp',\n",
       "  'block_shape': (128, 128)},\n",
       " 'log_file': PosixPath('/u/trappist-r0/govorcin/01_OPERA/HRES/tropo/log_sas.log')}"
      ]
     },
     "execution_count": 15,
     "metadata": {},
     "output_type": "execute_result"
    }
   ],
   "source": [
    "# Print configuration parameters\n",
    "tropo_workflow.model_dump()"
   ]
  },
  {
   "cell_type": "code",
   "execution_count": 20,
   "metadata": {},
   "outputs": [
    {
     "data": {
      "text/plain": [
       "('20190101', 0)"
      ]
     },
     "execution_count": 20,
     "metadata": {},
     "output_type": "execute_result"
    }
   ],
   "source": [
    "# Get model datetime and hour\n",
    "hres_dt = get_hres_datetime(tropo_workflow.input_options.input_file_path)\n",
    "hres_dt"
   ]
  },
  {
   "cell_type": "code",
   "execution_count": 24,
   "metadata": {},
   "outputs": [
    {
     "data": {
      "text/plain": [
       "'OPERA_L4_TROPO_GLOBAL_20190101T000000Z_20250130T025816Z_HRES_0.1_v0.1.nc'"
      ]
     },
     "execution_count": 24,
     "metadata": {},
     "output_type": "execute_result"
    }
   ],
   "source": [
    "# Get output filename\n",
    "#OPERA_L{level}_{product_name}_{spatial_coverage}_{hres_model_datetime}_{process_start_datetime}_{WEATHER_MODEL}_{HRES_spatial_resolution}_{product_version}.nc\n",
    "tropo_workflow.output_options.get_output_filename(*hres_dt)"
   ]
  },
  {
   "cell_type": "code",
   "execution_count": 25,
   "metadata": {},
   "outputs": [
    {
     "data": {
      "text/plain": [
       "{'input_file': {'input_file_path': '', 'date_fmt': '%Y%m%d'},\n",
       " 'output_options': {'date_fmt': '%Y%m%dT%H%M%S',\n",
       "  'creation_time': datetime.datetime(2025, 1, 30, 3, 6, 22, 296741, tzinfo=datetime.timezone.utc),\n",
       "  'output_heights': [],\n",
       "  'compression_kwargs': {'compression_flag': True,\n",
       "   'zlib': True,\n",
       "   'complevel': 5,\n",
       "   'shuffle': True},\n",
       "  'product_version': '0.1'},\n",
       " 'primary_executable': {'product_type': 'OPERA_TROPO'},\n",
       " 'product_path_group': {'product_path': PosixPath('output/historical'),\n",
       "  'scratch_path': PosixPath('scratch/historical'),\n",
       "  'output_directory': PosixPath('output/historical'),\n",
       "  'product_version': '0.1'},\n",
       " 'worker_settings': {'n_workers': 1,\n",
       "  'threads_per_worker': 2,\n",
       "  'max_memory': 4,\n",
       "  'dask_temp_dir': 'tmp',\n",
       "  'block_shape': (128, 256)},\n",
       " 'log_file': PosixPath('scratch/historical/log_sas.log')}"
      ]
     },
     "execution_count": 25,
     "metadata": {},
     "output_type": "execute_result"
    }
   ],
   "source": [
    "#PGE runconfig contains few extra fields\n",
    "pge_workflow = pge_runconfig.RunConfig()\n",
    "pge_workflow = pge_workflow.from_yaml('opera_tropo/src/opera_tropo/config/default/pge_runconfig.yaml')\n",
    "pge_workflow.model_dump()"
   ]
  },
  {
   "cell_type": "code",
   "execution_count": 29,
   "metadata": {},
   "outputs": [
    {
     "data": {
      "text/plain": [
       "(TropoWorkflow(input_options=InputOptions(input_file_path='', date_fmt='%Y%m%d'), output_options=OutputOptions(date_fmt='%Y%m%dT%H%M%S', creation_time=datetime.datetime(2025, 1, 30, 3, 6, 22, 296741, tzinfo=datetime.timezone.utc), output_heights=[], compression_kwargs={'compression_flag': True, 'zlib': True, 'complevel': 5, 'shuffle': True}, product_version='0.1'), work_directory=PosixPath('/u/trappist-r0/govorcin/01_OPERA/TROPO/scratch/historical'), keep_paths_relative=False, worker_settings=WorkerSettings(n_workers=1, threads_per_worker=2, max_memory=4, dask_temp_dir='scratch/historical/tmp', block_shape=(128, 256)), log_file=PosixPath('scratch/historical/log_sas.log')),\n",
       " {'input_options': {'input_file_path': '', 'date_fmt': '%Y%m%d'},\n",
       "  'output_options': {'date_fmt': '%Y%m%dT%H%M%S',\n",
       "   'creation_time': datetime.datetime(2025, 1, 30, 3, 6, 22, 296741, tzinfo=datetime.timezone.utc),\n",
       "   'output_heights': [],\n",
       "   'compression_kwargs': {'compression_flag': True,\n",
       "    'zlib': True,\n",
       "    'complevel': 5,\n",
       "    'shuffle': True},\n",
       "   'product_version': '0.1'},\n",
       "  'work_directory': PosixPath('/u/trappist-r0/govorcin/01_OPERA/TROPO/scratch/historical'),\n",
       "  'keep_paths_relative': False,\n",
       "  'worker_settings': {'n_workers': 1,\n",
       "   'threads_per_worker': 2,\n",
       "   'max_memory': 4,\n",
       "   'dask_temp_dir': 'scratch/historical/tmp',\n",
       "   'block_shape': (128, 256)},\n",
       "  'log_file': PosixPath('scratch/historical/log_sas.log')})"
      ]
     },
     "execution_count": 29,
     "metadata": {},
     "output_type": "execute_result"
    }
   ],
   "source": [
    "# Get tropowork config from pge_config\n",
    "pge_workflow.to_workflow(), pge_workflow.to_workflow().model_dump()"
   ]
  }
 ],
 "metadata": {
  "kernelspec": {
   "display_name": "opera_tropo",
   "language": "python",
   "name": "python3"
  },
  "language_info": {
   "codemirror_mode": {
    "name": "ipython",
    "version": 3
   },
   "file_extension": ".py",
   "mimetype": "text/x-python",
   "name": "python",
   "nbconvert_exporter": "python",
   "pygments_lexer": "ipython3",
   "version": "3.12.8"
  }
 },
 "nbformat": 4,
 "nbformat_minor": 2
}
