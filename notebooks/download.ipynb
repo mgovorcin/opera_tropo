{
 "cells": [
  {
   "cell_type": "code",
   "execution_count": 2,
   "metadata": {},
   "outputs": [],
   "source": [
    "%load_ext autoreload\n",
    "%autoreload 2"
   ]
  },
  {
   "cell_type": "code",
   "execution_count": 3,
   "metadata": {},
   "outputs": [],
   "source": [
    "import sys\n",
    "from pathlib import Path\n",
    "\n",
    "src_path = Path('/u/trappist-r0/govorcin/01_OPERA/TROPO/opera_tropo/src')\n",
    "sys.path.append(str(src_path))"
   ]
  },
  {
   "cell_type": "code",
   "execution_count": 4,
   "metadata": {},
   "outputs": [],
   "source": [
    "from opera_tropo import download"
   ]
  },
  {
   "cell_type": "code",
   "execution_count": 5,
   "metadata": {},
   "outputs": [],
   "source": [
    "date = '20190613'\n",
    "hour = '00'\n",
    "\n",
    "hres_sds = download.HRESConfig('/u/trappist-r0/govorcin/01_OPERA/HRES/tropo/data',\n",
    "                               date, hour, version=1)"
   ]
  },
  {
   "cell_type": "code",
   "execution_count": 6,
   "metadata": {},
   "outputs": [
    {
     "name": "stdout",
     "output_type": "stream",
     "text": [
      "20190613/D06130000061300001.zz.nc\n"
     ]
    }
   ],
   "source": [
    "# Download\n",
    "download.download_hres(hres_sds)"
   ]
  }
 ],
 "metadata": {
  "kernelspec": {
   "display_name": "opera_tropo",
   "language": "python",
   "name": "python3"
  },
  "language_info": {
   "codemirror_mode": {
    "name": "ipython",
    "version": 3
   },
   "file_extension": ".py",
   "mimetype": "text/x-python",
   "name": "python",
   "nbconvert_exporter": "python",
   "pygments_lexer": "ipython3",
   "version": "-1.-1.-1"
  }
 },
 "nbformat": 4,
 "nbformat_minor": 2
}
