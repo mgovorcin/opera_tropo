{
 "cells": [
  {
   "cell_type": "code",
   "execution_count": 246,
   "metadata": {},
   "outputs": [],
   "source": [
    "%matplotlib inline\n",
    "from matplotlib import pyplot as plt\n",
    "import xarray as xr\n",
    "import numpy as np\n",
    "\n",
    "from RAiDER.models import HRES"
   ]
  },
  {
   "cell_type": "code",
   "execution_count": 247,
   "metadata": {},
   "outputs": [],
   "source": [
    "# load sample data\n",
    "ds1 = xr.open_dataset('/u/aurora-r0/govorcin/01_OPERA/TROPO/interface/tropo/tests/data/test_data.nc')"
   ]
  },
  {
   "cell_type": "markdown",
   "metadata": {},
   "source": [
    "## RAIDER calculation"
   ]
  },
  {
   "cell_type": "code",
   "execution_count": 243,
   "metadata": {},
   "outputs": [],
   "source": [
    "hres_model = HRES()\n",
    "\n",
    "# Extract temperature and specific humidity at the first time step\n",
    "hres_model._t = ds1.t.isel(time=0).values\n",
    "hres_model._q = ds1.q.isel(time=0).values\n",
    "\n",
    "# Extract longitude and latitude values\n",
    "longitude = ds1.longitude.values\n",
    "latitude = ds1.latitude.values\n",
    "\n",
    "# Use geopotential heights and log of surface pressure\n",
    "# to get pressure, geopotential, and geopotential height\n",
    "_, pres, hgt = hres_model._calculategeoh(\n",
    "        ds1.z.isel(time=0, level=0).values,\n",
    "        ds1.lnsp.isel(time=0, level=0).values\n",
    ")\n",
    "hres_model._p = pres\n",
    "\n",
    "# Create latitude and longitude grid\n",
    "hres_model._lons, hres_model._lats = np.meshgrid(longitude, latitude)\n",
    "\n",
    "# Get altitudes\n",
    "hres_model._get_heights(hres_model._lats, hgt.transpose(1, 2, 0))\n",
    "h = hres_model._zs.copy()\n",
    "\n",
    "# Re-structure arrays from (heights, lats, lons) to (lons, lats, heights)\n",
    "hres_model._p = np.flip(hres_model._p.transpose(1, 2, 0), axis=2)\n",
    "hres_model._t = np.flip(hres_model._t.transpose(1, 2, 0), axis=2)\n",
    "hres_model._q = np.flip(hres_model._q.transpose(1, 2, 0), axis=2)\n",
    "hres_model._zs = np.flip(h, axis=2)\n",
    "hres_model._xs, hres_model._ys = hres_model._lons.copy(), hres_model._lats.copy()\n",
    " \n",
    "# Perform RAiDER computations\n",
    "hres_model._find_e() \n",
    "h = hres_model._zs.copy()\n",
    "hres_model._uniform_in_z(_zlevels=None)\n",
    "hres_model._checkForNans()\n",
    "\n",
    "# Refractivity\n",
    "hres_model._get_wet_refractivity()\n",
    "hres_model._get_hydro_refractivity()\n",
    "hres_model._adjust_grid(hres_model.get_latlon_bounds())\n",
    "\n",
    "# Compute zenith delays at the weather model grid nodes\n",
    "hres_model._getZTD()"
   ]
  },
  {
   "cell_type": "markdown",
   "metadata": {},
   "source": [
    "# Xarray - comp\n",
    "there is some difference in precision, notice diff comes python native function, array and xarray/dask compution with float32/64"
   ]
  },
  {
   "cell_type": "markdown",
   "metadata": {},
   "source": [
    "## Functions"
   ]
  },
  {
   "cell_type": "code",
   "execution_count": 263,
   "metadata": {},
   "outputs": [],
   "source": [
    "# Constants\n",
    "R_v = 461.524\n",
    "k1 = 0.776  # [K/Pa]\n",
    "k2 = 0.233  # [K/Pa]\n",
    "k3 = 3.75e3  # [K^2/Pa]\n",
    "g0 = 9.80665\n",
    "G1 = 9.80616\n",
    "Rmax = 6378137\n",
    "Rmin = 6356752\n",
    "R_d = 287.06  # in our original code this was 287.053\n",
    "\n",
    "# Needed RAIDER interpolator\n",
    "# option would be to use c-code and its bindings itself\n",
    "from RAiDER.interpolate import interpolate_along_axis\n",
    "from RAiDER.interpolator import fillna3D\n",
    "from RAiDER.models.model_levels import (A_137_HRES, B_137_HRES, LEVELS_137_HEIGHTS)\n",
    "\n",
    "# Step 1 - calc surface pressure, geopotential heights\n",
    "def get_surface_pressure(lnsp : xr.DataArray):\n",
    "    isel = {}\n",
    "    #Strip time and level dims \n",
    "    for i in ['time', 'level']:\n",
    "        isel[i] = 0 if i in lnsp.dims else None\n",
    "\n",
    "    lnsp = lnsp.isel(isel)\n",
    "    lnsp = lnsp.expand_dims(level=range(138))\n",
    "    #lnsp = lnsp.astype(np.float32)\n",
    "\n",
    "    # Get expanded a and b HRES values\n",
    "    A_expanded = np.atleast_1d(A_137_HRES)[:, np.newaxis, np.newaxis]\n",
    "    B_expanded = np.atleast_1d(B_137_HRES)[:, np.newaxis, np.newaxis]\n",
    "\n",
    "    return  A_expanded + B_expanded * np.exp(lnsp)\n",
    "\n",
    "# NOTE geopotential is slower than expected ~400ms, try to replace diff\n",
    "# array substraction array[1:]-array[:-1]\n",
    "def get_geopotential(t : xr.DataArray, \n",
    "                     q : xr.DataArray, \n",
    "                     z : xr.DataArray, \n",
    "                     lnsp : xr.DataArray):\n",
    "    # Get surface pressure\n",
    "    Phd = get_surface_pressure(lnsp)\n",
    "\n",
    "    # Get log and alpha at half levels\n",
    "    Phd[0] = 1e-10\n",
    "    dlogP = np.log(Phd).diff(dim=\"level\", label='lower')\n",
    "    dlogP[0] = np.log(Phd.isel(level=1) / 0.1)\n",
    "    \n",
    "    alpha = 1 - (Phd[:-1] / (Phd.diff(dim=\"level\", label='lower'))) * dlogP\n",
    "    alpha[0] *= np.float32(np.log(2))\n",
    "\n",
    "    # Reverse\n",
    "    dlogP = dlogP.isel(level=slice(None, None, -1))\n",
    "    alpha = alpha.isel(level=slice(None, None, -1))\n",
    "    dlogP = dlogP.assign_coords(level=range(1,138))\n",
    "    alpha = alpha.assign_coords(level=range(1,138))\n",
    "\n",
    "    # compute moist temperature amd reverse\n",
    "    moist = t * (1 + 0.609133 * q)\n",
    "    TRd = moist.isel(level=slice(None, None, -1)) * R_d\n",
    "    TRd = TRd.assign_coords(level=range(1,138))\n",
    "    z1 = TRd * alpha + z.isel(level=0).expand_dims(level=range(1, 138))\n",
    "    z2 = TRd * dlogP\n",
    "\n",
    "    # Get Geopotential, in reverse\n",
    "    return z1 + z2.cumsum('level').shift(level=1, fill_value=0)\n",
    "\n",
    "# Step 2 - Geopotential heights to ellipsoidal heights\n",
    "# Geoheight to ellipsoidal heights\n",
    "def get_Re(lats: np.array) -> np.array:\n",
    "    \"\"\"\n",
    "    Returns earth radius as a function of latitude for WGS84.\n",
    "\n",
    "    Args: lats\n",
    "        ndarray of geodetic latitudes in degrees\n",
    "\n",
    "    Returns:\n",
    "        ndarray of earth radius at each latitude\n",
    "\n",
    "    Example:\n",
    "    >>> import numpy as np\n",
    "    >>> from RAiDER.utilFcns import get_Re\n",
    "    >>> output = get_Re(np.array([0, 30, 45, 60, 90]))\n",
    "    >>> output\n",
    "     array([6378137., 6372770.5219805, 6367417.56705189, 6362078.07851428, 6356752.])\n",
    "    >>> assert output[0] == 6378137 # (Rmax)\n",
    "    >>> assert output[-1] == 6356752 # (Rmin)\n",
    "    \"\"\"\n",
    "    return np.sqrt(1 / (((np.cos(np.radians(lats)) ** 2) / Rmax**2) + ((np.sin(np.radians(lats)) ** 2) / Rmin**2)))\n",
    "\n",
    "def _get_g_ll(lats: np.array) ->  np.array:\n",
    "    \"\"\"Compute the variation in gravity constant with latitude.\"\"\"\n",
    "    return G1 * (1 - 0.002637 * np.cos(np.radians(2 * lats)) + 0.0000059 * (np.cos(np.radians(2 * lats))) ** 2)\n",
    "\n",
    "def ght2hgt(ght:xr.DataArray):\n",
    "    # Ellipsoidal height\n",
    "    g_ll = _get_g_ll(ght.latitude)  # gravity function of latitude\n",
    "    Re = get_Re(ght.latitude)  # Earth radius function of latitude\n",
    "    return (ght * Re) / (g_ll / g0 * Re - ght)\n",
    "\n",
    "# Step 3 Get water pressure\n",
    "# Partial pressure\n",
    "def get_svp_xr(t : xr.DataArray):\n",
    "    t1 = 273.15  # O Celsius\n",
    "    t2 = 250.15  # -23 Celsius\n",
    "\n",
    "    tref = t - t1\n",
    "    wgt = (t - t2) / (t1 - t2)\n",
    "\n",
    "    tref = t - t1\n",
    "    wgt = (t - t2) / (t1 - t2)\n",
    "    svpw = 6.1121 * np.exp((17.502 * tref) / (240.97 + tref))\n",
    "    svpi = 6.1121 * np.exp((22.587 * tref) / (273.86 + tref))\n",
    "\n",
    "    svp = svpi + (svpw - svpi) * wgt**2\n",
    "\n",
    "    svp = svpi + (svpw - svpi) * wgt**2\n",
    "    ix_bound1 = t > t1\n",
    "    svp = svp.where(~ix_bound1, svpw)\n",
    "\n",
    "    ix_bound2 = t < t2\n",
    "    svp = svp.where(~ix_bound2, svpi)\n",
    "\n",
    "    return svp * 100\n",
    "\n",
    "def get_e_from_q(t : xr.DataArray,\n",
    "                 q : xr.DataArray,\n",
    "                 p : xr.DataArray):\n",
    "    # Get standard vapor pressure\n",
    "    svp = get_svp_xr(t)\n",
    "\n",
    "    w = q / (1 - q)\n",
    "    return w * R_v * (p - svp) / R_d\n",
    "\n",
    "# Step 4 Interpolate to unifrom heights\n",
    "def uniform_heights(ds : xr.DataArray, hgt: xr.DataArray, \n",
    "                    new_heights : list, fill_value:float=0):\n",
    "    # new heights\n",
    "    ds= ds.copy()\n",
    "    new_shape = (ds.sizes['latitude'], ds.sizes['longitude'], 1) \n",
    "    new_zs = np.tile(new_heights, new_shape)\n",
    "\n",
    "    # Interpolate\n",
    "    ds = ds.transpose('time', 'latitude', 'longitude', 'level')\n",
    "    hgt = hgt.transpose('time', 'latitude', 'longitude', 'level')\n",
    "    isel_slice = dict(time=0)\n",
    "    interp = interpolate_along_axis(hgt.isel(isel_slice),\n",
    "                                    ds.isel(isel_slice)[:,:,::-1],\n",
    "                                    new_zs,  axis=2, \n",
    "                                    fill_value=np.nan)\n",
    "    # fill nans\n",
    "    inter_filled = fillna3D(interp, fill_value=fill_value)\n",
    "\n",
    "    return xr.DataArray(inter_filled.transpose(2,0,1),\n",
    "                        dims=['height', 'latitude', 'longitude'],\n",
    "                        coords={'height':new_heights,\n",
    "                              'latitude':ds.latitude,\n",
    "                              'longitude':ds.longitude})\n",
    "\n",
    "# Step 5 Get ZTD \n",
    "def cumulative_trapz_vectorized(data):\n",
    "    \"\"\"\n",
    "    Perform cumulative trapezoidal integration efficiently using vectorized operations.\n",
    "\n",
    "    Parameters:\n",
    "        data (np.ndarray): Data values to integrate, shape (height, lat, lon).\n",
    "        height (np.ndarray): Height levels, shape (height,).\n",
    "\n",
    "    Returns:\n",
    "        np.ndarray: Integrated values at each height level.\n",
    "    \"\"\"\n",
    "    # Get output datarray\n",
    "    out_xr = xr.zeros_like(data)\n",
    "    # Compute differential heights (shape: (height-1,))\n",
    "    dh = np.diff(data.height)\n",
    "\n",
    "    # Ensure broadcasting: Reshape `dh` to (height-1, 1, 1) to match (height, lat, lon)\n",
    "    dh = dh[:, np.newaxis, np.newaxis]\n",
    "\n",
    "    # Compute trapezoidal integration elements: (height-1, lat, lon)\n",
    "    trapz_values = 0.5 * (data[:-1].data + data[1:].data) * dh\n",
    "\n",
    "    # Compute cumulative integral from top to bottom (reverse order)\n",
    "    out_xr[:-1] = 1e-6 * np.cumsum(trapz_values[::-1], axis=0)[::-1]\n",
    "\n",
    "    return out_xr\n",
    "\n",
    "def get_ztd(wet_ref:xr.DataArray, hydro_ref:xr.DataArray):\n",
    "    hydro = cumulative_trapz_vectorized(hydro_ref)\n",
    "    wet = cumulative_trapz_vectorized(wet_ref)\n",
    "    return xr.Dataset(data_vars={'hydro': hydro.astype(np.float32),\n",
    "                                 'wet': wet.astype(np.float32),\n",
    "                                 'hydro_ref':hydro_ref.astype(np.float32),\n",
    "                                 'wet_ref':wet_ref.astype(np.float32)})\n"
   ]
  },
  {
   "cell_type": "code",
   "execution_count": 244,
   "metadata": {},
   "outputs": [],
   "source": [
    "# Workflow\n",
    "def ztd_xr(da : xr.Dataset):\n",
    "    # Get surface pressure and geopotential\n",
    "    p = get_surface_pressure(da.lnsp)[:-1]\n",
    "    da['p'] = p.assign_coords(level=range(1,138)).expand_dims('time')\n",
    "\n",
    "    # Geoheights\n",
    "    ght = get_geopotential(da.t, da.q,\n",
    "                           da.z, da.lnsp).astype(np.float32) / g0\n",
    "    # Ellipsoidal height\n",
    "    hgt = ght2hgt(ght)\n",
    "\n",
    "    # Partial pressure\n",
    "    da['e'] = get_e_from_q(da.t, da.q, da.p)\n",
    "    # drop unenssessary\n",
    "    da = da.drop_vars(['z', 'lnsp', 'q'])\n",
    "\n",
    "    # Uniform heights\n",
    "    t_interp = uniform_heights(da.t, hgt, np.flipud(LEVELS_137_HEIGHTS), 1e16)\n",
    "    e_interp = uniform_heights(da.e, hgt, np.flipud(LEVELS_137_HEIGHTS), 0)\n",
    "    p_interp= uniform_heights(da.p, hgt, np.flipud(LEVELS_137_HEIGHTS), 0)\n",
    "\n",
    "    # Get refractivity\n",
    "    wet_refractivity = k2 * e_interp / t_interp + k3 * e_interp / t_interp**2\n",
    "    hydrostatic_refractivity = k1 * p_interp / t_interp\n",
    "\n",
    "    # Get ztd\n",
    "    ztd =get_ztd(wet_refractivity, hydrostatic_refractivity) \n",
    "    return ztd\n"
   ]
  },
  {
   "cell_type": "code",
   "execution_count": 276,
   "metadata": {},
   "outputs": [
    {
     "name": "stdout",
     "output_type": "stream",
     "text": [
      "CPU times: user 7.13 s, sys: 1.84 s, total: 8.97 s\n",
      "Wall time: 8.5 s\n"
     ]
    }
   ],
   "source": [
    "%%time\n",
    "out1 = ztd_xr(ds1)"
   ]
  },
  {
   "cell_type": "code",
   "execution_count": 250,
   "metadata": {},
   "outputs": [
    {
     "name": "stdout",
     "output_type": "stream",
     "text": [
      "CPU times: user 10.4 s, sys: 5.71 s, total: 16.1 s\n",
      "Wall time: 15.6 s\n"
     ]
    }
   ],
   "source": [
    "%%time\n",
    "from opera_tropo.core import calculate_ztd\n",
    "out2 = calculate_ztd(ds1)"
   ]
  },
  {
   "cell_type": "code",
   "execution_count": 277,
   "metadata": {},
   "outputs": [
    {
     "data": {
      "text/plain": [
       "[<matplotlib.lines.Line2D at 0x7f25c08aac00>]"
      ]
     },
     "execution_count": 277,
     "metadata": {},
     "output_type": "execute_result"
    },
    {
     "data": {
      "image/png": "[encoded data removed]",
      "text/plain": [
       "<Figure size 640x480 with 1 Axes>"
      ]
     },
     "metadata": {},
     "output_type": "display_data"
    }
   ],
   "source": [
    "# NOTe difference could be also due to mantissa rounding\n",
    "(out1.hydro[:,0,0] - out2.hydrostatic_delay[0,:,0,0]).plot()"
   ]
  },
  {
   "cell_type": "code",
   "execution_count": 271,
   "metadata": {},
   "outputs": [],
   "source": [
    "from opera_tropo.run import _rounding_mantissa_blocks"
   ]
  },
  {
   "cell_type": "code",
   "execution_count": 278,
   "metadata": {},
   "outputs": [],
   "source": [
    "out1 = _rounding_mantissa_blocks(out1, 12)"
   ]
  },
  {
   "cell_type": "code",
   "execution_count": 279,
   "metadata": {},
   "outputs": [
    {
     "data": {
      "text/plain": [
       "[<matplotlib.lines.Line2D at 0x7f25c08e2bd0>]"
      ]
     },
     "execution_count": 279,
     "metadata": {},
     "output_type": "execute_result"
    },
    {
     "data": {
      "image/png": "[encoded data removed]",
      "text/plain": [
       "<Figure size 640x480 with 1 Axes>"
      ]
     },
     "metadata": {},
     "output_type": "display_data"
    }
   ],
   "source": [
    "# NOTe difference could be also due to mantissa rounding\n",
    "(out1.hydro[:,0,0] - out2.hydrostatic_delay[0,:,0,0]).plot()"
   ]
  },
  {
   "cell_type": "code",
   "execution_count": 280,
   "metadata": {},
   "outputs": [
    {
     "data": {
      "text/plain": [
       "[<matplotlib.lines.Line2D at 0x7f25c0961d90>]"
      ]
     },
     "execution_count": 280,
     "metadata": {},
     "output_type": "execute_result"
    },
    {
     "data": {
      "image/png": "[encoded data removed]",
      "text/plain": [
       "<Figure size 640x480 with 1 Axes>"
      ]
     },
     "metadata": {},
     "output_type": "display_data"
    }
   ],
   "source": [
    "# wet delay has different bit rounding of 10\n",
    "(out1.wet[:,0,0] - out2.wet_delay[0,:,0,0]).plot()"
   ]
  }
 ],
 "metadata": {
  "kernelspec": {
   "display_name": "opera_tropo",
   "language": "python",
   "name": "python3"
  },
  "language_info": {
   "codemirror_mode": {
    "name": "ipython",
    "version": 3
   },
   "file_extension": ".py",
   "mimetype": "text/x-python",
   "name": "python",
   "nbconvert_exporter": "python",
   "pygments_lexer": "ipython3",
   "version": "3.12.8"
  }
 },
 "nbformat": 4,
 "nbformat_minor": 2
}
